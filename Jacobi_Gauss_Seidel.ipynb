{
  "nbformat": 4,
  "nbformat_minor": 0,
  "metadata": {
    "colab": {
      "provenance": [],
      "authorship_tag": "ABX9TyOrATbdSCOykW5xhyhy007r",
      "include_colab_link": true
    },
    "kernelspec": {
      "name": "python3",
      "display_name": "Python 3"
    },
    "language_info": {
      "name": "python"
    }
  },
  "cells": [
    {
      "cell_type": "markdown",
      "metadata": {
        "id": "view-in-github",
        "colab_type": "text"
      },
      "source": [
        "<a href=\"https://colab.research.google.com/github/seknewna/AzureDeployment/blob/master/Jacobi_Gauss_Seidel.ipynb\" target=\"_parent\"><img src=\"https://colab.research.google.com/assets/colab-badge.svg\" alt=\"Open In Colab\"/></a>"
      ]
    },
    {
      "cell_type": "markdown",
      "source": [
        "## Application\n",
        "Ecrire un code python pour implémenter l'algorithm de Jacobi\n",
        "\n",
        "$$A = D - L - U \\implies -T = A - D = L+U$$\n",
        "\n",
        "Ecrire la formule simplifiée de l'algorithme de Jacobi\n",
        "$$X_{i}^{(k+1)} = \\left(b_i-\\sum_{j=1}^nt_{ij}x_j^{(k)}\\right)/a_{ii}$$"
      ],
      "metadata": {
        "id": "aQX6owx2p2Gv"
      }
    },
    {
      "cell_type": "code",
      "source": [
        "import numpy as np"
      ],
      "metadata": {
        "id": "mehko524hvmt"
      },
      "execution_count": null,
      "outputs": []
    },
    {
      "cell_type": "code",
      "source": [
        "np.zeros_like([1, 1, 1], dtype = np.double)"
      ],
      "metadata": {
        "colab": {
          "base_uri": "https://localhost:8080/"
        },
        "id": "wb24mNewh3C9",
        "outputId": "42654baa-795c-4151-db74-b2e25e2a9ea3"
      },
      "execution_count": null,
      "outputs": [
        {
          "output_type": "execute_result",
          "data": {
            "text/plain": [
              "array([0., 0., 0.])"
            ]
          },
          "metadata": {},
          "execution_count": 3
        }
      ]
    },
    {
      "cell_type": "code",
      "source": [
        "A = np.diag(np.zeros_like([1, 1, 1], dtype = np.double))"
      ],
      "metadata": {
        "id": "TkNN1dnhvMwO"
      },
      "execution_count": null,
      "outputs": []
    },
    {
      "cell_type": "code",
      "source": [
        "np.diagonal(A)"
      ],
      "metadata": {
        "colab": {
          "base_uri": "https://localhost:8080/"
        },
        "id": "UiPPgMPv0hCE",
        "outputId": "5ebc8ea7-7635-4eab-9d70-112fc0eabe05"
      },
      "execution_count": null,
      "outputs": [
        {
          "output_type": "execute_result",
          "data": {
            "text/plain": [
              "array([0., 0., 0.])"
            ]
          },
          "metadata": {},
          "execution_count": 5
        }
      ]
    },
    {
      "cell_type": "code",
      "execution_count": null,
      "metadata": {
        "id": "Ex8GtdubSXs7"
      },
      "outputs": [],
      "source": [
        "def jacobi(A, b, tolerance=1e-10, max_iterations=10000):\n",
        "  x = np.zeros_like(b, dtype=np.double)\n",
        "  T = A - np.diag(np.diagonal(A))\n",
        "   \n",
        "  for k in range(max_iterations):\n",
        "    x_old  = x.copy()\n",
        "    x[:] = (b - np.dot(T, x)) / np.diagonal(A)\n",
        "    \n",
        "    if np.linalg.norm(x - x_old, ord=2) / np.linalg.norm(x, ord=2) < tolerance:\n",
        "      print(\"La méthode de Jacobi converge à l'itération k = \" + str(k))\n",
        "      break\n",
        "    if k == (max_iterations + 1):\n",
        "      print(\"La méthode de Jacobi ne converge pas\")\n",
        "  return x"
      ]
    },
    {
      "cell_type": "code",
      "source": [
        "A = np.array([[4,2,1],[-1,0,1],[2,1,4]])\n",
        "b = np.array([4,2,9])\n",
        "jacobi(A, b)"
      ],
      "metadata": {
        "colab": {
          "base_uri": "https://localhost:8080/"
        },
        "id": "vd1RujS6Bdja",
        "outputId": "cdaa5dbc-0d95-4b2a-9eae-e907b4ba83bd"
      },
      "execution_count": null,
      "outputs": [
        {
          "output_type": "stream",
          "name": "stderr",
          "text": [
            "<ipython-input-6-7ccbec014c47>:7: RuntimeWarning: divide by zero encountered in true_divide\n",
            "  x[:] = (b - np.dot(T, x)) / np.diagonal(A)\n",
            "<ipython-input-6-7ccbec014c47>:9: RuntimeWarning: invalid value encountered in double_scalars\n",
            "  if np.linalg.norm(x - x_old, ord=2) / np.linalg.norm(x, ord=2) < tolerance:\n"
          ]
        },
        {
          "output_type": "execute_result",
          "data": {
            "text/plain": [
              "array([nan, nan, nan])"
            ]
          },
          "metadata": {},
          "execution_count": 7
        }
      ]
    },
    {
      "cell_type": "code",
      "source": [
        "A = np.array([[10, -1, 2, 0], [-1, -11, -1, 3], [2, -1, 10, -1], [0, 3, -1, 8]])\n",
        "b = np.array([6,25,-11,15])\n",
        "jacobi(A, b)"
      ],
      "metadata": {
        "colab": {
          "base_uri": "https://localhost:8080/"
        },
        "id": "IaFQOaZjESKO",
        "outputId": "0102d52a-15a0-46ce-d36d-bed7bbc30983"
      },
      "execution_count": null,
      "outputs": [
        {
          "output_type": "stream",
          "name": "stdout",
          "text": [
            "La méthode de Jacobi converge à l'itération k = 21\n"
          ]
        },
        {
          "output_type": "execute_result",
          "data": {
            "text/plain": [
              "array([ 0.67288008, -1.59357828, -1.16118953,  2.32744316])"
            ]
          },
          "metadata": {},
          "execution_count": 13
        }
      ]
    },
    {
      "cell_type": "markdown",
      "source": [
        "Ecrire un code python pour implémenter l'algorithm de Gauss-Seidel\n",
        "\n",
        "Ecrire la formule simplifiée de l'algorithme de Gauss-Seidel\n",
        "$$X_{i}^{(k+1)} = \\left(b - \\sum_{j=1}^{i-1}a_{ij}x_{j}^{(k+1)}-\\sum_{j=i+1}^{n}a_{ij}x_{j}^{(k+1)}\\right)/a_{ij}$$"
      ],
      "metadata": {
        "id": "YkYIZHv8yQWN"
      }
    },
    {
      "cell_type": "code",
      "source": [
        "def gauss_seidel(A, b, tolerance=1e-10, max_iterations=10000):\n",
        "  x = np.zeros_like(b, dtype=np.double)\n",
        "  \n",
        "  # Iterate\n",
        "  for k in range(max_iterations):\n",
        "    x_old  = x.copy()\n",
        "    # Loop over rows\n",
        "    for i in range(A.shape[0]):\n",
        "      x[i] = (b[i] - np.dot(A[i,:i], x[:i]) - np.dot(A[i,(i+1):], x_old[(i+1):]))/A[i ,i]\n",
        "      #Stop condition \n",
        "      if np.linalg.norm(x - x_old, ord=2) / np.linalg.norm(x, ord=2) < tolerance:\n",
        "        break\n",
        "  \n",
        "  \n",
        "  if k < (max_iterations+1):\n",
        "    print(\"La méthode de Gauss-Seidel converge à l'itération k = \" + str(k))\n",
        "  else:\n",
        "    print(\"La méthode de Gauss-Seidel ne converge pas\")\n",
        "  return x"
      ],
      "metadata": {
        "id": "DjFGZJhOSfd_"
      },
      "execution_count": null,
      "outputs": []
    },
    {
      "cell_type": "code",
      "source": [
        "A = np.array([[2, -1], [1,4]])\n",
        "b = np.array([8, 5])\n",
        "gauss_seidel(A, b)"
      ],
      "metadata": {
        "colab": {
          "base_uri": "https://localhost:8080/"
        },
        "id": "G857lTYdhs5S",
        "outputId": "33e97c38-aa35-4d85-9b71-83242cc19b98"
      },
      "execution_count": null,
      "outputs": [
        {
          "output_type": "stream",
          "name": "stdout",
          "text": [
            "La méthode de Gauss-Seidel converge à l'itération k = 9999\n"
          ]
        },
        {
          "output_type": "execute_result",
          "data": {
            "text/plain": [
              "array([4.11111111, 0.22222222])"
            ]
          },
          "metadata": {},
          "execution_count": 28
        }
      ]
    }
  ]
}